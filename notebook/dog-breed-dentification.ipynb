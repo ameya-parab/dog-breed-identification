{
 "cells": [
  {
   "cell_type": "code",
   "execution_count": 1,
   "metadata": {},
   "outputs": [],
   "source": [
    "import os\n",
    "import sys\n",
    "\n",
    "import optuna\n",
    "import torch\n",
    "import pandas as pd\n",
    "\n",
    "sys.path.insert(0, os.path.join(os.getcwd(), \"..\"))\n",
    "\n",
    "from config import MODEL_PATH, STORAGE, DATA_DIR, BREED\n",
    "from src.dataset import fetch_dataset\n",
    "from src.model import EfficientNet\n",
    "from src.train import run_training, evaluate"
   ]
  },
  {
   "cell_type": "code",
   "execution_count": 2,
   "metadata": {},
   "outputs": [],
   "source": [
    "N_TRIALS = 50\n",
    "os.environ[\"http_proxy\"] = \"\"\n",
    "os.environ[\"https_proxy\"] = \"\"\n",
    "os.environ[\"HTTP_PROXY\"] = \"\"\n",
    "os.environ[\"HTTPS_PROXY\"] = \"\"\n"
   ]
  },
  {
   "cell_type": "code",
   "execution_count": null,
   "metadata": {},
   "outputs": [],
   "source": [
    "def objective(trial):\n",
    "\n",
    "    batch_size = trial.suggest_int(\"batch_size\", low=32, high=48)\n",
    "    epochs = trial.suggest_int(\"epochs\", low=8, high=12)\n",
    "    random_seed = trial.suggest_int(\"random_seed\", low=0, high=1000_000)\n",
    "    lr = trial.suggest_loguniform(\"lr\", low=0.001, high=0.01)\n",
    "\n",
    "    train_dataloader, valid_dataloader, _ = fetch_dataset(\n",
    "        random_seed=random_seed, batch_size=batch_size\n",
    "    )\n",
    "\n",
    "    print(\n",
    "        f\"Epoch: {epochs}, Batch: {batch_size}, LR: {lr}, Seed: {random_seed}\"\n",
    "    )\n",
    "\n",
    "    _, validation_loss = run_training(\n",
    "        train_dataloader=train_dataloader,\n",
    "        valid_dataloader=valid_dataloader,\n",
    "        epochs=epochs,\n",
    "        lr=lr,\n",
    "        freeze_layers=True,\n",
    "    )\n",
    "\n",
    "    return validation_loss\n"
   ]
  },
  {
   "cell_type": "code",
   "execution_count": null,
   "metadata": {},
   "outputs": [],
   "source": [
    "study = optuna.create_study(\n",
    "    study_name=\"dog-breed\",\n",
    "    direction=\"minimize\",\n",
    "    pruner=optuna.pruners.HyperbandPruner(),\n",
    "    sampler=optuna.samplers.TPESampler(multivariate=True),\n",
    "    storage=STORAGE,\n",
    "    load_if_exists=True,\n",
    ")\n",
    "\n",
    "study.optimize(\n",
    "    objective,\n",
    "    n_trials=N_TRIALS,\n",
    "    gc_after_trial=True,\n",
    ")\n"
   ]
  },
  {
   "cell_type": "code",
   "execution_count": null,
   "metadata": {},
   "outputs": [],
   "source": [
    "study = optuna.load_study(\n",
    "    study_name=\"dog-breed\",\n",
    "    pruner=optuna.pruners.HyperbandPruner(),\n",
    "    sampler=optuna.samplers.TPESampler(multivariate=True),\n",
    "    storage=STORAGE,\n",
    ")\n",
    "\n",
    "train_dataloader, valid_dataloader, test_dataloader = fetch_dataset(\n",
    "    random_seed=study.best_params[\"random_seed\"],\n",
    "    batch_size=study.best_params[\"batch_size\"],\n",
    ")\n",
    "\n",
    "run_training(\n",
    "    train_dataloader=train_dataloader,\n",
    "    valid_dataloader=valid_dataloader,\n",
    "    epochs=study.best_params[\"epochs\"],\n",
    "    lr=study.best_params[\"lr\"],\n",
    "    random_seed=study.best_params[\"random_seed\"],\n",
    "    verbose=True\n",
    ")\n",
    "\n",
    "model = EfficientNet().model\n",
    "model.load_state_dict(torch.load(MODEL_PATH))\n",
    "\n",
    "_, probabilities, _ = evaluate(\n",
    "            model=model, dataloader=test_dataloader\n",
    "        )\n"
   ]
  },
  {
   "cell_type": "code",
   "execution_count": 6,
   "metadata": {},
   "outputs": [],
   "source": [
    "ids = os.listdir(os.path.join(DATA_DIR, \"test\"))\n",
    "ids = [_id.split(\".\")[0] for _id in ids]\n",
    "submission = pd.DataFrame(ids)\n",
    "submission.columns = [\"id\"]\n",
    "\n",
    "result = pd.DataFrame(torch.vstack(probabilities).numpy())\n",
    "result.columns = BREED\n",
    "\n",
    "submission = submission.merge(result, left_index=True, right_index=True)\n",
    "submission\n",
    "\n",
    "submission.to_csv(\n",
    "    os.path.join(DATA_DIR, \"submission.csv\"),\n",
    "    index=False,\n",
    ")\n"
   ]
  }
 ],
 "metadata": {
  "interpreter": {
   "hash": "dad2d61d92ae8412e850aa9305f380fff2a23d1049f91049574a85bd292857de"
  },
  "kernelspec": {
   "display_name": "Python 3.9.7 ('kaggle')",
   "language": "python",
   "name": "python3"
  },
  "language_info": {
   "codemirror_mode": {
    "name": "ipython",
    "version": 3
   },
   "file_extension": ".py",
   "mimetype": "text/x-python",
   "name": "python",
   "nbconvert_exporter": "python",
   "pygments_lexer": "ipython3",
   "version": "3.9.7"
  },
  "orig_nbformat": 4
 },
 "nbformat": 4,
 "nbformat_minor": 2
}
