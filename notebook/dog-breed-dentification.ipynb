{
 "cells": [
  {
   "cell_type": "code",
   "execution_count": null,
   "metadata": {},
   "outputs": [],
   "source": [
    "import os\n",
    "import sys\n",
    "\n",
    "import optuna\n",
    "import torch\n",
    "import pandas as pd\n",
    "\n",
    "sys.path.insert(0, os.path.join(os.getcwd(), \"..\"))\n",
    "\n",
    "from config import MODEL_PATH, STORAGE, DATA_DIR, BREED\n",
    "from src.dataset import Dogs, fetch_dataset\n",
    "from src.model import EfficientNet\n",
    "from src.train import run_training, evaluate\n"
   ]
  },
  {
   "cell_type": "code",
   "execution_count": null,
   "metadata": {},
   "outputs": [],
   "source": [
    "N_TRIALS = 50\n"
   ]
  },
  {
   "cell_type": "code",
   "execution_count": null,
   "metadata": {},
   "outputs": [],
   "source": [
    "def objective(trial):\n",
    "\n",
    "    batch_size = trial.suggest_int(\"batch_size\", low=32, high=48)\n",
    "    epochs = trial.suggest_int(\"epochs\", low=10, high=40)\n",
    "    random_seed = trial.suggest_int(\"random_seed\", low=0, high=1000_000)\n",
    "    lr = trial.suggest_loguniform(\"lr\", low=1e-6, high=1e-4)\n",
    "    lr_step = trial.suggest_int(\"lr_step\", low=5, high=8)\n",
    "    lr_gamma = trial.suggest_loguniform(\"lr_gamma\", low=1e-3, high=1e-2)\n",
    "\n",
    "    train_dataloader, valid_dataloader = fetch_dataset(\n",
    "        random_seed=random_seed, batch_size=batch_size\n",
    "    )\n",
    "\n",
    "    print(\n",
    "        f\"Epoch: {epochs}, Batch_size: {batch_size}, Learning_rate: {lr}, Random_Seed: {random_seed}\"\n",
    "    )\n",
    "\n",
    "    validation_accuracy = run_training(\n",
    "        train_dataloader=train_dataloader,\n",
    "        valid_dataloader=valid_dataloader,\n",
    "        epochs=epochs,\n",
    "        lr=lr,\n",
    "        lr_step=lr_step,\n",
    "        lr_gamma=lr_gamma,\n",
    "        random_seed=random_seed,\n",
    "    )\n",
    "\n",
    "    return validation_accuracy\n"
   ]
  },
  {
   "cell_type": "code",
   "execution_count": null,
   "metadata": {},
   "outputs": [],
   "source": [
    "study = optuna.create_study(\n",
    "    study_name=\"dog-breed\",\n",
    "    direction=\"maximize\",\n",
    "    pruner=optuna.pruners.HyperbandPruner(),\n",
    "    sampler=optuna.samplers.TPESampler(multivariate=True),\n",
    "    storage=STORAGE,\n",
    "    load_if_exists=True,\n",
    ")\n",
    "\n",
    "study.optimize(\n",
    "    objective,\n",
    "    n_trials=N_TRIALS,\n",
    "    gc_after_trial=True,\n",
    ")\n"
   ]
  },
  {
   "cell_type": "code",
   "execution_count": null,
   "metadata": {},
   "outputs": [],
   "source": [
    "study = optuna.load_study(\n",
    "    study_name=\"dog-breed\",\n",
    "    pruner=optuna.pruners.HyperbandPruner(),\n",
    "    sampler=optuna.samplers.TPESampler(multivariate=True),\n",
    "    storage=STORAGE,\n",
    ")\n",
    "\n",
    "train_dataloader, valid_dataloader = fetch_dataset(\n",
    "    random_seed=study.best_params[\"random_seed\"],\n",
    "    batch_size=study.best_params[\"batch_size\"],\n",
    ")\n",
    "\n",
    "run_training(\n",
    "    train_dataloader=train_dataloader,\n",
    "    valid_dataloader=valid_dataloader,\n",
    "    epochs=study.best_params[\"epochs\"],\n",
    "    lr=study.best_params[\"lr\"],\n",
    "    lr_step=study.best_params[\"lr_step\"],\n",
    "    lr_gamma=study.best_params[\"lr_gamma\"],\n",
    "    random_seed=study.best_params[\"random_seed\"],\n",
    ")\n",
    "\n",
    "model = EfficientNet().model\n",
    "model.load_state_dict(torch.load(MODEL_PATH))\n",
    "\n",
    "test_dataset = Dogs(split=\"test\")\n",
    "accuracy, probabilities = evaluate(\n",
    "    model=model,\n",
    "    dataloader=torch.utils.data.DataLoader(\n",
    "        test_dataset, batch_size=study.best_params[\"batch_size\"], shuffle=False\n",
    "    ),\n",
    ")\n",
    "\n",
    "print(f\"Test Accuracy: {accuracy:.2f}\")\n"
   ]
  },
  {
   "cell_type": "code",
   "execution_count": null,
   "metadata": {},
   "outputs": [],
   "source": [
    "ids = os.listdir(os.path.join(DATA_DIR, \"test\"))\n",
    "ids = [_id.split(\".\")[0] for _id in ids]\n",
    "submission = pd.DataFrame(ids)\n",
    "submission.columns = [\"id\"]\n"
   ]
  },
  {
   "cell_type": "code",
   "execution_count": null,
   "metadata": {},
   "outputs": [],
   "source": [
    "result = pd.DataFrame(torch.vstack(probabilities).numpy())\n",
    "result.columns = BREED\n"
   ]
  },
  {
   "cell_type": "code",
   "execution_count": null,
   "metadata": {},
   "outputs": [],
   "source": [
    "submission = submission.merge(result, left_index=True, right_index=True)\n",
    "submission\n"
   ]
  },
  {
   "cell_type": "code",
   "execution_count": null,
   "metadata": {},
   "outputs": [],
   "source": [
    "submission.to_csv(\n",
    "    os.path.join(DATA_DIR, \"submission.csv\"),\n",
    "    index=False,\n",
    ")\n"
   ]
  },
  {
   "cell_type": "code",
   "execution_count": null,
   "metadata": {},
   "outputs": [],
   "source": []
  }
 ],
 "metadata": {
  "interpreter": {
   "hash": "dad2d61d92ae8412e850aa9305f380fff2a23d1049f91049574a85bd292857de"
  },
  "kernelspec": {
   "display_name": "Python 3.9.7 ('kaggle')",
   "language": "python",
   "name": "python3"
  },
  "language_info": {
   "codemirror_mode": {
    "name": "ipython",
    "version": 3
   },
   "file_extension": ".py",
   "mimetype": "text/x-python",
   "name": "python",
   "nbconvert_exporter": "python",
   "pygments_lexer": "ipython3",
   "version": "3.9.7"
  },
  "orig_nbformat": 4
 },
 "nbformat": 4,
 "nbformat_minor": 2
}
